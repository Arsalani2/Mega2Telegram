{
  "nbformat": 4,
  "nbformat_minor": 0,
  "metadata": {
    "colab": {
      "provenance": []
    },
    "kernelspec": {
      "name": "python3",
      "display_name": "Python 3"
    },
    "language_info": {
      "name": "python"
    }
  },
  "cells": [
    {
      "cell_type": "code",
      "source": [
        "# @title Requirements\n",
        "# This software is licensed under the GNU GPL v3 or later.\n",
        "# Installing required libraries\n",
        "!sudo apt-get install megatools\n",
        "!pip install telethon tqdm ffmpeg-python"
      ],
      "metadata": {
        "id": "KuhN6SkF4RpU"
      },
      "execution_count": null,
      "outputs": []
    },
    {
      "cell_type": "code",
      "execution_count": null,
      "metadata": {
        "id": "MmGz9SVT2pAI"
      },
      "outputs": [],
      "source": [
        "# @title Download from Mega to Google Colab\n",
        "# Creating the folder colab_download\n",
        "!mkdir -p /content/colab_download\n",
        "# Downloading files from Mega and saving them in the colab_download folder\n",
        "!megadl --path /content/colab_download --reload 'Your_Link'"
      ]
    },
    {
      "cell_type": "code",
      "source": [
        "# Listing downloaded files in the folder\n",
        "!ls -la /content/colab_download"
      ],
      "metadata": {
        "id": "zdZdQsSyL7ON"
      },
      "execution_count": null,
      "outputs": []
    },
    {
      "cell_type": "code",
      "source": [
        "# Removing specific downloaded files from the folder\n",
        "!rm -i '/content/colab_download/Path'"
      ],
      "metadata": {
        "id": "G8rhAu07ORGe"
      },
      "execution_count": null,
      "outputs": []
    },
    {
      "cell_type": "code",
      "source": [
        "# If needed, you can transfer the downloaded file to your Google Drive\n",
        "!cp '/content/colab_download/Path' '/content/drive/MyDrive/Path'"
      ],
      "metadata": {
        "id": "XtVLxdpYq2Ay"
      },
      "execution_count": null,
      "outputs": []
    },
    {
      "cell_type": "code",
      "source": [
        "# If needed, you can also transfer files from your Google Drive to your Colab environment\n",
        "# @title Google Drive\n",
        "from google.colab import drive\n",
        "drive.mount('/content/drive')\n",
        "!cp -r '/content/drive/MyDrive/Path' '/content/colab_download/Path'"
      ],
      "metadata": {
        "id": "A-zoi_z-wRpl"
      },
      "execution_count": null,
      "outputs": []
    },
    {
      "cell_type": "code",
      "source": [
        "# Main variables\n",
        "api_id = 'API_ID'\n",
        "api_hash = 'API_HASH'\n",
        "bot_token = 'BOT_TOKEN'\n",
        "chat_id = CHAT_ID # Just Int"
      ],
      "metadata": {
        "id": "bnRMJqsKO0Ds"
      },
      "execution_count": null,
      "outputs": []
    },
    {
      "cell_type": "code",
      "source": [
        "# @title Code V 1.00\n",
        "import os, asyncio, subprocess, uuid\n",
        "from telethon import TelegramClient\n",
        "from tqdm.notebook import tqdm\n",
        "from telethon.tl.types import DocumentAttributeVideo, DocumentAttributeAudio\n",
        "\n",
        "class TelegramUploader:\n",
        "    def __init__(self, api_id, api_hash, bot_token, chunk_size=8*1024*1024):\n",
        "        # Set up the Telegram client and file upload settings\n",
        "        self.client = TelegramClient(None, api_id, api_hash)\n",
        "        self.bot_token = bot_token\n",
        "        self.chunk_size = chunk_size\n",
        "\n",
        "    async def start(self):\n",
        "        # Start the client using the bot token\n",
        "        await self.client.start(bot_token=self.bot_token)\n",
        "        print(\"Client started successfully!\")\n",
        "\n",
        "    def progress_callback(self, current, total, pbar):\n",
        "        # Update the progress bar during file upload\n",
        "        pbar.update(current - pbar.n)\n",
        "\n",
        "    def get_media_info(self, file_path):\n",
        "        # Extract basic media info (width, height, duration) using ffprobe\n",
        "        try:\n",
        "            result = subprocess.run(['ffprobe', '-v', 'error', '-show_entries', 'stream=width,height,duration',\n",
        "                                     '-of', 'default=noprint_wrappers=1', file_path],\n",
        "                                    stdout=subprocess.PIPE, stderr=subprocess.PIPE, text=True)\n",
        "            media_info = {line.split('=')[0]: line.split('=')[1] for line in result.stdout.splitlines()}\n",
        "            return int(media_info.get('width', 0)), int(media_info.get('height', 0)), float(media_info.get('duration', 0))\n",
        "        except Exception as e:\n",
        "            print(f\"Error extracting media info: {e}\")\n",
        "            return None, None, None\n",
        "\n",
        "    def generate_video_thumbnail(self, file_path):\n",
        "        # Create a thumbnail image from the middle of the video\n",
        "        thumbnail_path = f\"/content/{uuid.uuid4()}.jpg\"\n",
        "        try:\n",
        "            _, _, duration = self.get_media_info(file_path)\n",
        "            if duration:\n",
        "                cmd = ['ffmpeg', '-y', '-i', file_path, '-ss', str(duration / 2), '-vframes', '1', '-vf', 'scale=320:-1', thumbnail_path]\n",
        "                if subprocess.run(cmd, stdout=subprocess.PIPE, stderr=subprocess.PIPE, text=True).returncode == 0:\n",
        "                    return thumbnail_path\n",
        "        except Exception as e:\n",
        "            print(f\"Error generating thumbnail: {e}\")\n",
        "        return None\n",
        "\n",
        "    async def send_file(self, file_path, file_name, chat_id):\n",
        "        # Prepare and send a file to Telegram\n",
        "        file_size = os.path.getsize(file_path)\n",
        "        attributes, thumb_path, streaming = None, None, False\n",
        "\n",
        "        # Handle video files\n",
        "        if file_path.endswith(('.mp4', '.mkv', '.avi', '.mov')):\n",
        "            width, height, duration = self.get_media_info(file_path)\n",
        "            attributes = [DocumentAttributeVideo(duration=int(duration), w=width, h=height, supports_streaming=True)]\n",
        "            streaming = True\n",
        "            thumb_path = self.generate_video_thumbnail(file_path)\n",
        "        # Handle audio files\n",
        "        elif file_path.endswith(('.mp3', '.wav', '.ogg')):\n",
        "            _, _, duration = self.get_media_info(file_path)\n",
        "            attributes = [DocumentAttributeAudio(duration=int(duration), voice=False)]\n",
        "            streaming = True\n",
        "\n",
        "        # Upload the file with a progress bar\n",
        "        with tqdm(total=file_size, unit='B', unit_scale=True, desc=file_name, leave=True) as pbar:\n",
        "            await self.client.send_file(\n",
        "                chat_id, file_path, caption=file_name, supports_streaming=streaming,\n",
        "                attributes=attributes, thumb=thumb_path, chunk_size=self.chunk_size,\n",
        "                progress_callback=lambda current, total: self.progress_callback(current, total, pbar)\n",
        "            )\n",
        "\n",
        "        # Clean up thumbnail file if it was generated\n",
        "        if thumb_path and os.path.exists(thumb_path):\n",
        "            os.remove(thumb_path)\n",
        "        print(f\"{file_name} uploaded successfully!\")\n",
        "\n",
        "    async def send_files_from_folder(self, folder_path, chat_id):\n",
        "        # Upload all files from a folder\n",
        "        for root, _, files in os.walk(folder_path):\n",
        "            files.sort()  # Sort files for consistent order\n",
        "            relative_path = os.path.relpath(root, folder_path) or \"\"\n",
        "            if relative_path:\n",
        "                await self.client.send_message(chat_id, f\"📁Start Folder: {relative_path}\")\n",
        "\n",
        "            for file_name in files:\n",
        "                await self.send_file(os.path.join(root, file_name), file_name, chat_id)\n",
        "\n",
        "            if relative_path:\n",
        "                await self.client.send_message(chat_id, f\"📁End Folder: {relative_path}\")\n",
        "\n",
        "async def main():\n",
        "    # Path to the folder containing files to upload\n",
        "    folder_path = '/content/colab_download/'\n",
        "\n",
        "    # Set up the uploader with your API credentials\n",
        "    uploader = TelegramUploader(api_id, api_hash, bot_token, chunk_size=1024*1024)\n",
        "    async with uploader.client:\n",
        "        await uploader.start()\n",
        "        await uploader.send_files_from_folder(folder_path, chat_id)\n",
        "\n",
        "# Run the main function if not already in an event loop\n",
        "if __name__ == '__main__':\n",
        "    if not asyncio.get_event_loop().is_running():\n",
        "        asyncio.run(main())\n",
        "    else:\n",
        "        await main()"
      ],
      "metadata": {
        "cellView": "form",
        "id": "0YuvXWbDOdt8"
      },
      "execution_count": null,
      "outputs": []
    },
    {
      "cell_type": "code",
      "source": [
        "# @title Delete All Mega Files\n",
        "# Here we delete all files after uploading\n",
        "import shutil\n",
        "\n",
        "# Folder path\n",
        "folder_path = '/content/colab_download/'\n",
        "\n",
        "# Delete all files and contents in the folder\n",
        "shutil.rmtree(folder_path)\n",
        "\n",
        "# Recreate the empty folder\n",
        "os.makedirs(folder_path)\n",
        "\n",
        "print(f\"All files inside the folder {folder_path} have been deleted.\")"
      ],
      "metadata": {
        "id": "HvBxT9V2Es2u",
        "cellView": "form"
      },
      "execution_count": null,
      "outputs": []
    }
  ]
}